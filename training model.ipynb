{
 "cells": [
  {
   "cell_type": "markdown",
   "id": "46f519c8",
   "metadata": {},
   "source": [
    "ضع لكل مرحلة عنوان رئيس ولكل خطوة عنوان فرعي مناسب كما في الأمثلة الآتية:"
   ]
  },
  {
   "cell_type": "markdown",
   "id": "e7efe140",
   "metadata": {},
   "source": [
    "# Step [1]: Prepare libraries and data"
   ]
  },
  {
   "cell_type": "markdown",
   "id": "8e9b1951",
   "metadata": {},
   "source": [
    "## [1.1] Include important libraries"
   ]
  },
  {
   "cell_type": "code",
   "execution_count": null,
   "id": "af6058ed",
   "metadata": {},
   "outputs": [],
   "source": []
  },
  {
   "cell_type": "markdown",
   "id": "229df102",
   "metadata": {},
   "source": [
    "## [1.2] Download data"
   ]
  },
  {
   "cell_type": "code",
   "execution_count": null,
   "id": "5504e7ee",
   "metadata": {},
   "outputs": [],
   "source": [
    "!wget 'https://drive.google.com/uc?export=download&id=1KepfzAhJ7dloG8XaWQf0ovQipDHYS8aI' -O 'final_data.zip'"
   ]
  },
  {
   "cell_type": "code",
   "execution_count": null,
   "id": "530e1bac",
   "metadata": {},
   "outputs": [],
   "source": [
    "!unzip final_data.zip"
   ]
  },
  {
   "cell_type": "markdown",
   "id": "3400638b",
   "metadata": {},
   "source": [
    "## [1.3] read data from csv file"
   ]
  },
  {
   "cell_type": "code",
   "execution_count": null,
   "id": "d41a9612",
   "metadata": {},
   "outputs": [],
   "source": []
  },
  {
   "cell_type": "markdown",
   "id": "4ec48c7b",
   "metadata": {},
   "source": [
    "## [1.4] Prapere The Comparison Dictionary"
   ]
  },
  {
   "cell_type": "code",
   "execution_count": 1,
   "id": "dfcdcdfc",
   "metadata": {},
   "outputs": [],
   "source": [
    "model_comparison_table = {}"
   ]
  },
  {
   "cell_type": "code",
   "execution_count": 2,
   "id": "0428b0f2",
   "metadata": {},
   "outputs": [],
   "source": [
    "model_comparison_table['model_name'] = []\n",
    "model_comparison_table['preprocessing_methods'] = []\n",
    "model_comparison_table['accuracy'] = []"
   ]
  },
  {
   "cell_type": "markdown",
   "id": "2f22713d",
   "metadata": {},
   "source": [
    "# Step [2]: Build Baseline"
   ]
  },
  {
   "cell_type": "markdown",
   "id": "03ef90d1",
   "metadata": {},
   "source": [
    "## [2.1] Extract Bag of Words Features"
   ]
  },
  {
   "cell_type": "code",
   "execution_count": null,
   "id": "c1b8c64b",
   "metadata": {},
   "outputs": [],
   "source": []
  },
  {
   "cell_type": "markdown",
   "id": "24164796",
   "metadata": {},
   "source": [
    "## [2.2] Train model"
   ]
  },
  {
   "cell_type": "code",
   "execution_count": null,
   "id": "04e373c4",
   "metadata": {},
   "outputs": [],
   "source": []
  },
  {
   "cell_type": "markdown",
   "id": "a286e05a",
   "metadata": {},
   "source": [
    "## [2.3] Evaluation"
   ]
  },
  {
   "cell_type": "code",
   "execution_count": null,
   "id": "7e011a54",
   "metadata": {},
   "outputs": [],
   "source": []
  },
  {
   "cell_type": "markdown",
   "id": "f10e78f8",
   "metadata": {},
   "source": [
    "في المثال التالي طريقة إدخال وكتابة اسم النموذج والعمليات وإدخال الدقة"
   ]
  },
  {
   "cell_type": "code",
   "execution_count": 3,
   "id": "42b0c136",
   "metadata": {},
   "outputs": [],
   "source": [
    "model_comparison_table['model_name'].append(\"logistic regression with bag of words\")\n",
    "model_comparison_table['preprocessing_methods'].append(\"none\")\n",
    "model_comparison_table['accuracy'].append(accuracy)"
   ]
  },
  {
   "cell_type": "markdown",
   "id": "f9e52feb",
   "metadata": {},
   "source": [
    "# Step [3]: Build model with preprocessing methods"
   ]
  },
  {
   "cell_type": "code",
   "execution_count": null,
   "id": "d605c22a",
   "metadata": {},
   "outputs": [],
   "source": [
    "..."
   ]
  },
  {
   "cell_type": "markdown",
   "id": "d4969b90",
   "metadata": {},
   "source": [
    "## [3.3] Evaluation"
   ]
  },
  {
   "cell_type": "markdown",
   "id": "c14af91e",
   "metadata": {},
   "source": [
    "في حال وجود عمليات مسبقة كما طلب منك بعد خطوة بناء أول نموذج ستكتبها كما في المثال:"
   ]
  },
  {
   "cell_type": "code",
   "execution_count": 4,
   "id": "00d03133",
   "metadata": {},
   "outputs": [],
   "source": [
    "model_comparison_table['model_name'].append(\"logistic regression with bag of words\")\n",
    "model_comparison_table['preprocessing_methods'].append(\"removing emojis, removing urls, alef_yaa_woo normalization\")\n",
    "model_comparison_table['accuracy'].append(accuracy)"
   ]
  },
  {
   "cell_type": "code",
   "execution_count": null,
   "id": "86e42fa2",
   "metadata": {},
   "outputs": [],
   "source": [
    "..."
   ]
  },
  {
   "cell_type": "markdown",
   "id": "b9c515ad",
   "metadata": {},
   "source": [
    "طباعة جدول المقارنة النهائي الذي ستقوم بملئه أثناء الحل"
   ]
  },
  {
   "cell_type": "code",
   "execution_count": 5,
   "id": "1747f25c",
   "metadata": {},
   "outputs": [
    {
     "data": {
      "text/html": [
       "<div>\n",
       "<style scoped>\n",
       "    .dataframe tbody tr th:only-of-type {\n",
       "        vertical-align: middle;\n",
       "    }\n",
       "\n",
       "    .dataframe tbody tr th {\n",
       "        vertical-align: top;\n",
       "    }\n",
       "\n",
       "    .dataframe thead th {\n",
       "        text-align: right;\n",
       "    }\n",
       "</style>\n",
       "<table border=\"1\" class=\"dataframe\">\n",
       "  <thead>\n",
       "    <tr style=\"text-align: right;\">\n",
       "      <th></th>\n",
       "      <th>model_name</th>\n",
       "      <th>preprocessing_methods</th>\n",
       "      <th>accuracy</th>\n",
       "    </tr>\n",
       "  </thead>\n",
       "  <tbody>\n",
       "    <tr>\n",
       "      <th>0</th>\n",
       "      <td>logistic regression with bag of words</td>\n",
       "      <td>none</td>\n",
       "      <td>accuracy</td>\n",
       "    </tr>\n",
       "    <tr>\n",
       "      <th>1</th>\n",
       "      <td>logistic regression with bag of words</td>\n",
       "      <td>removing emojis, removing urls, alef_yaa_woo n...</td>\n",
       "      <td>accuracy</td>\n",
       "    </tr>\n",
       "  </tbody>\n",
       "</table>\n",
       "</div>"
      ],
      "text/plain": [
       "                              model_name  \\\n",
       "0  logistic regression with bag of words   \n",
       "1  logistic regression with bag of words   \n",
       "\n",
       "                               preprocessing_methods  accuracy  \n",
       "0                                               none  accuracy  \n",
       "1  removing emojis, removing urls, alef_yaa_woo n...  accuracy  "
      ]
     },
     "execution_count": 5,
     "metadata": {},
     "output_type": "execute_result"
    }
   ],
   "source": [
    "import pandas as pd\n",
    "\n",
    "df = pd.DataFrame(model_comparison_table)\n",
    "df"
   ]
  },
  {
   "cell_type": "code",
   "execution_count": null,
   "id": "382f9a49",
   "metadata": {},
   "outputs": [],
   "source": [
    "df.to_csv(\"[your_name].csv\", index=False)"
   ]
  }
 ],
 "metadata": {
  "kernelspec": {
   "display_name": "Python 3",
   "language": "python",
   "name": "python3"
  },
  "language_info": {
   "codemirror_mode": {
    "name": "ipython",
    "version": 3
   },
   "file_extension": ".py",
   "mimetype": "text/x-python",
   "name": "python",
   "nbconvert_exporter": "python",
   "pygments_lexer": "ipython3",
   "version": "3.8.8"
  }
 },
 "nbformat": 4,
 "nbformat_minor": 5
}
